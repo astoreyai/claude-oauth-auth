{
 "cells": [
  {
   "cell_type": "markdown",
   "metadata": {},
   "source": [
    "# Claude OAuth Auth - Interactive Notebook\n",
    "\n",
    "This notebook demonstrates how to use the `claude-oauth-auth` package for interactive exploration and analysis."
   ]
  },
  {
   "cell_type": "markdown",
   "metadata": {},
   "source": [
    "## Setup\n",
    "\n",
    "Install the package if needed:"
   ]
  },
  {
   "cell_type": "code",
   "execution_count": null,
   "metadata": {},
   "outputs": [],
   "source": [
    "# !pip install claude-oauth-auth"
   ]
  },
  {
   "cell_type": "markdown",
   "metadata": {},
   "source": [
    "## Import Dependencies"
   ]
  },
  {
   "cell_type": "code",
   "execution_count": null,
   "metadata": {},
   "outputs": [],
   "source": [
    "from claude_oauth_auth import ClaudeClient, get_auth_status, create_client\n",
    "import json\n",
    "from IPython.display import Markdown, display"
   ]
  },
  {
   "cell_type": "markdown",
   "metadata": {},
   "source": [
    "## Check Authentication Status"
   ]
  },
  {
   "cell_type": "code",
   "execution_count": null,
   "metadata": {},
   "outputs": [],
   "source": [
    "# Get authentication status\n",
    "status = get_auth_status()\n",
    "print(json.dumps(status, indent=2))"
   ]
  },
  {
   "cell_type": "markdown",
   "metadata": {},
   "source": [
    "## Initialize Claude Client"
   ]
  },
  {
   "cell_type": "code",
   "execution_count": null,
   "metadata": {},
   "outputs": [],
   "source": [
    "# Create client with auto-discovery\n",
    "client = ClaudeClient(verbose=True)\n",
    "\n",
    "# Check what authentication is being used\n",
    "auth_info = client.get_auth_info()\n",
    "print(f\"Auth Type: {auth_info['auth_type']}\")\n",
    "print(f\"Source: {auth_info['source']}\")\n",
    "print(f\"Model: {auth_info['model']}\")"
   ]
  },
  {
   "cell_type": "markdown",
   "metadata": {},
   "source": [
    "## Basic Text Generation"
   ]
  },
  {
   "cell_type": "code",
   "execution_count": null,
   "metadata": {},
   "outputs": [],
   "source": [
    "# Simple generation\n",
    "response = client.generate(\"Explain quantum computing in simple terms\")\n",
    "display(Markdown(response))"
   ]
  },
  {
   "cell_type": "markdown",
   "metadata": {},
   "source": [
    "## Generation with Parameters"
   ]
  },
  {
   "cell_type": "code",
   "execution_count": null,
   "metadata": {},
   "outputs": [],
   "source": [
    "# With custom parameters\n",
    "response = client.generate(\n",
    "    \"Write a creative story about AI\",\n",
    "    temperature=0.9,\n",
    "    max_tokens=500\n",
    ")\n",
    "display(Markdown(response))"
   ]
  },
  {
   "cell_type": "markdown",
   "metadata": {},
   "source": [
    "## Code Generation"
   ]
  },
  {
   "cell_type": "code",
   "execution_count": null,
   "metadata": {},
   "outputs": [],
   "source": [
    "# Generate Python code\n",
    "code_response = client.generate(\n",
    "    \"Write a Python function to calculate fibonacci numbers with memoization\",\n",
    "    temperature=0.3,  # Lower temperature for code\n",
    "    max_tokens=500\n",
    ")\n",
    "print(code_response)"
   ]
  },
  {
   "cell_type": "markdown",
   "metadata": {},
   "source": [
    "## Batch Processing Multiple Prompts"
   ]
  },
  {
   "cell_type": "code",
   "execution_count": null,
   "metadata": {},
   "outputs": [],
   "source": [
    "# Process multiple prompts\n",
    "prompts = [\n",
    "    \"What is machine learning?\",\n",
    "    \"What is deep learning?\",\n",
    "    \"What is neural networks?\"\n",
    "]\n",
    "\n",
    "responses = []\n",
    "for i, prompt in enumerate(prompts, 1):\n",
    "    print(f\"Processing {i}/{len(prompts)}...\")\n",
    "    response = client.generate(prompt, max_tokens=200)\n",
    "    responses.append({\"prompt\": prompt, \"response\": response})\n",
    "\n",
    "# Display results\n",
    "for item in responses:\n",
    "    display(Markdown(f\"**Q: {item['prompt']}**\"))\n",
    "    display(Markdown(item['response']))\n",
    "    print(\"-\" * 80)"
   ]
  },
  {
   "cell_type": "markdown",
   "metadata": {},
   "source": [
    "## Data Analysis Example"
   ]
  },
  {
   "cell_type": "code",
   "execution_count": null,
   "metadata": {},
   "outputs": [],
   "source": [
    "# Analyze some data\n",
    "data = {\n",
    "    \"sales\": [100, 150, 200, 180, 220],\n",
    "    \"months\": [\"Jan\", \"Feb\", \"Mar\", \"Apr\", \"May\"]\n",
    "}\n",
    "\n",
    "prompt = f\"\"\"\n",
    "Analyze this sales data and provide insights:\n",
    "{json.dumps(data, indent=2)}\n",
    "\n",
    "Provide:\n",
    "1. Trend analysis\n",
    "2. Key insights\n",
    "3. Recommendations\n",
    "\"\"\"\n",
    "\n",
    "analysis = client.generate(prompt, max_tokens=500)\n",
    "display(Markdown(analysis))"
   ]
  },
  {
   "cell_type": "markdown",
   "metadata": {},
   "source": [
    "## Error Handling"
   ]
  },
  {
   "cell_type": "code",
   "execution_count": null,
   "metadata": {},
   "outputs": [],
   "source": [
    "# Example of error handling\n",
    "try:\n",
    "    response = client.generate(\n",
    "        \"Test prompt\",\n",
    "        max_tokens=999999  # Invalid parameter\n",
    "    )\n",
    "except Exception as e:\n",
    "    print(f\"Error: {e}\")"
   ]
  },
  {
   "cell_type": "markdown",
   "metadata": {},
   "source": [
    "## Conclusion\n",
    "\n",
    "This notebook demonstrated:\n",
    "- Authentication setup and diagnostics\n",
    "- Basic text generation\n",
    "- Parameter customization\n",
    "- Code generation\n",
    "- Batch processing\n",
    "- Data analysis\n",
    "- Error handling\n",
    "\n",
    "Explore the other examples for more advanced use cases!"
   ]
  }
 ],
 "metadata": {
  "kernelspec": {
   "display_name": "Python 3",
   "language": "python",
   "name": "python3"
  },
  "language_info": {
   "codemirror_mode": {
    "name": "ipython",
    "version": 3
   },
   "file_extension": ".py",
   "mimetype": "text/x-python",
   "name": "python",
   "nbconvert_exporter": "python",
   "pygments_lexer": "ipython3",
   "version": "3.11.0"
  }
 },
 "nbformat": 4,
 "nbformat_minor": 4
}
